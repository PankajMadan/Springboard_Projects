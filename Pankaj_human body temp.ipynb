{
 "cells": [
  {
   "cell_type": "markdown",
   "metadata": {},
   "source": [
    "# What is the True Normal Human Body Temperature? \n",
    "\n",
    "#### Background\n",
    "\n",
    "The mean normal body temperature was held to be 37$^{\\circ}$C or 98.6$^{\\circ}$F for more than 120 years since it was first conceptualized and reported by Carl Wunderlich in a famous 1868 book. But, is this value statistically correct?"
   ]
  },
  {
   "cell_type": "markdown",
   "metadata": {},
   "source": [
    "<h3>Exercises</h3>\n",
    "\n",
    "<p>In this exercise, you will analyze a dataset of human body temperatures and employ the concepts of hypothesis testing, confidence intervals, and statistical significance.</p>\n",
    "\n",
    "<p>Answer the following questions <b>in this notebook below and submit to your Github account</b>.</p> \n",
    "\n",
    "<ol>\n",
    "<li>  Is the distribution of body temperatures normal? \n",
    "    <ul>\n",
    "    <li> Although this is not a requirement for the Central Limit Theorem to hold (read the introduction on Wikipedia's page about the CLT carefully: https://en.wikipedia.org/wiki/Central_limit_theorem), it gives us some peace of mind that the population may also be normally distributed if we assume that this sample is representative of the population.\n",
    "    <li> Think about the way you're going to check for the normality of the distribution. Graphical methods are usually used first, but there are also other ways: https://en.wikipedia.org/wiki/Normality_test\n",
    "    </ul>\n",
    "<li>  Is the sample size large? Are the observations independent?\n",
    "    <ul>\n",
    "    <li> Remember that this is a condition for the Central Limit Theorem, and hence the statistical tests we are using, to apply.\n",
    "    </ul>\n",
    "<li>  Is the true population mean really 98.6 degrees F?\n",
    "    <ul>\n",
    "    <li> First, try a bootstrap hypothesis test.\n",
    "    <li> Now, let's try frequentist statistical testing. Would you use a one-sample or two-sample test? Why?\n",
    "    <li> In this situation, is it appropriate to use the $t$ or $z$ statistic? \n",
    "    <li> Now try using the other test. How is the result be different? Why?\n",
    "    </ul>\n",
    "<li>  Draw a small sample of size 10 from the data and repeat both frequentist tests. \n",
    "    <ul>\n",
    "    <li> Which one is the correct one to use? \n",
    "    <li> What do you notice? What does this tell you about the difference in application of the $t$ and $z$ statistic?\n",
    "    </ul>\n",
    "<li>  At what temperature should we consider someone's temperature to be \"abnormal\"?\n",
    "    <ul>\n",
    "    <li> As in the previous example, try calculating everything using the boostrap approach, as well as the frequentist approach.\n",
    "    <li> Start by computing the margin of error and confidence interval. When calculating the confidence interval, keep in mind that you should use the appropriate formula for one draw, and not N draws.\n",
    "    </ul>\n",
    "<li>  Is there a significant difference between males and females in normal temperature?\n",
    "    <ul>\n",
    "    <li> What testing approach did you use and why?\n",
    "    <li> Write a story with your conclusion in the context of the original problem.\n",
    "    </ul>\n",
    "</ol>\n",
    "\n",
    "You can include written notes in notebook cells using Markdown: \n",
    "   - In the control panel at the top, choose Cell > Cell Type > Markdown\n",
    "   - Markdown syntax: http://nestacms.com/docs/creating-content/markdown-cheat-sheet\n",
    "\n",
    "#### Resources\n",
    "\n",
    "+ Information and data sources: http://www.amstat.org/publications/jse/datasets/normtemp.txt, http://www.amstat.org/publications/jse/jse_data_archive.htm\n",
    "+ Markdown syntax: http://nestacms.com/docs/creating-content/markdown-cheat-sheet\n",
    "\n",
    "****"
   ]
  },
  {
   "cell_type": "code",
   "execution_count": 1,
   "metadata": {},
   "outputs": [
    {
     "data": {
      "text/html": [
       "<div>\n",
       "<style scoped>\n",
       "    .dataframe tbody tr th:only-of-type {\n",
       "        vertical-align: middle;\n",
       "    }\n",
       "\n",
       "    .dataframe tbody tr th {\n",
       "        vertical-align: top;\n",
       "    }\n",
       "\n",
       "    .dataframe thead th {\n",
       "        text-align: right;\n",
       "    }\n",
       "</style>\n",
       "<table border=\"1\" class=\"dataframe\">\n",
       "  <thead>\n",
       "    <tr style=\"text-align: right;\">\n",
       "      <th></th>\n",
       "      <th>temperature</th>\n",
       "      <th>gender</th>\n",
       "      <th>heart_rate</th>\n",
       "    </tr>\n",
       "  </thead>\n",
       "  <tbody>\n",
       "    <tr>\n",
       "      <th>0</th>\n",
       "      <td>99.3</td>\n",
       "      <td>F</td>\n",
       "      <td>68.0</td>\n",
       "    </tr>\n",
       "    <tr>\n",
       "      <th>1</th>\n",
       "      <td>98.4</td>\n",
       "      <td>F</td>\n",
       "      <td>81.0</td>\n",
       "    </tr>\n",
       "    <tr>\n",
       "      <th>2</th>\n",
       "      <td>97.8</td>\n",
       "      <td>M</td>\n",
       "      <td>73.0</td>\n",
       "    </tr>\n",
       "    <tr>\n",
       "      <th>3</th>\n",
       "      <td>99.2</td>\n",
       "      <td>F</td>\n",
       "      <td>66.0</td>\n",
       "    </tr>\n",
       "    <tr>\n",
       "      <th>4</th>\n",
       "      <td>98.0</td>\n",
       "      <td>F</td>\n",
       "      <td>73.0</td>\n",
       "    </tr>\n",
       "  </tbody>\n",
       "</table>\n",
       "</div>"
      ],
      "text/plain": [
       "   temperature gender  heart_rate\n",
       "0         99.3      F        68.0\n",
       "1         98.4      F        81.0\n",
       "2         97.8      M        73.0\n",
       "3         99.2      F        66.0\n",
       "4         98.0      F        73.0"
      ]
     },
     "execution_count": 1,
     "metadata": {},
     "output_type": "execute_result"
    }
   ],
   "source": [
    "# Importing required packages.\n",
    "import pandas as pd\n",
    "import numpy as np\n",
    "\n",
    "df = pd.read_csv('human_body_temperature.csv')\n",
    "# Checking the dataset.\n",
    "df.head()"
   ]
  },
  {
   "cell_type": "code",
   "execution_count": 2,
   "metadata": {},
   "outputs": [
    {
     "name": "stdout",
     "output_type": "stream",
     "text": [
      "<class 'pandas.core.frame.DataFrame'>\n",
      "RangeIndex: 130 entries, 0 to 129\n",
      "Data columns (total 3 columns):\n",
      "temperature    130 non-null float64\n",
      "gender         130 non-null object\n",
      "heart_rate     130 non-null float64\n",
      "dtypes: float64(2), object(1)\n",
      "memory usage: 3.1+ KB\n"
     ]
    }
   ],
   "source": [
    "#Checking for any missing values in the columns.\n",
    "df.info()\n",
    "# No missing values found"
   ]
  },
  {
   "cell_type": "code",
   "execution_count": 5,
   "metadata": {},
   "outputs": [],
   "source": [
    "# standardizing the temperature column of the dataset.\n",
    "body_temp=df['temperature']\n",
    "body_temp_standardized=(body_temp-body_temp.mean())/body_temp.std()"
   ]
  },
  {
   "cell_type": "code",
   "execution_count": 5,
   "metadata": {},
   "outputs": [
    {
     "data": {
      "text/plain": [
       "0    1.433161\n",
       "1    0.205637\n",
       "2   -0.612713\n",
       "3    1.296769\n",
       "4   -0.339930\n",
       "Name: temperature, dtype: float64"
      ]
     },
     "execution_count": 5,
     "metadata": {},
     "output_type": "execute_result"
    }
   ],
   "source": [
    "body_temp_standardized.head()\n",
    "\n"
   ]
  },
  {
   "cell_type": "code",
   "execution_count": 6,
   "metadata": {},
   "outputs": [
    {
     "data": {
      "image/png": "[encoded data removed]",
      "text/plain": [
       "<Figure size 432x288 with 1 Axes>"
      ]
     },
     "metadata": {
      "needs_background": "light"
     },
     "output_type": "display_data"
    }
   ],
   "source": [
    "# Plotting the qqplot in order to check the normality of body temperature.\n",
    "import statsmodels.api as sm\n",
    "import matplotlib.pyplot as plt\n",
    "%matplotlib inline\n",
    "fig=sm.qqplot(body_temp_standardized,fit=True,line='45')\n",
    "plt.show()"
   ]
  },
  {
   "cell_type": "markdown",
   "metadata": {},
   "source": [
    "### The above QQ-plot shows that the data is approximately Normally distributed."
   ]
  },
  {
   "cell_type": "code",
   "execution_count": 7,
   "metadata": {},
   "outputs": [
    {
     "name": "stdout",
     "output_type": "stream",
     "text": [
      "The p value corresponding to the Shapirow wilk statistics is: 0.2331680953502655\n"
     ]
    }
   ],
   "source": [
    "# Applying  Shapiro wilk normaility test to the body temperature data.\n",
    "from scipy import stats\n",
    "sw_statistics,pvalue=stats.shapiro(body_temp)\n",
    "print('The p value corresponding to the Shapirow wilk statistics is:',pvalue)\n"
   ]
  },
  {
   "cell_type": "markdown",
   "metadata": {},
   "source": [
    "### Since the p value of the Shapiro wilk statistics .233 >.05 , the Null hypothesis of body Temperature being normally distributed can't be rejected at 5% level of significance.\n",
    "\n",
    "## Ans 1: Thus from the QQ plot & Shapiro wilk test, we can conclude that body temperature data is normally distributed."
   ]
  },
  {
   "cell_type": "markdown",
   "metadata": {},
   "source": [
    "### There are 130 body temperature observations of different individuals . Thus this dataset is reasonably large for CLT to hold . Though the sampling is done without replacement,  the observations  seem to come from  an infinitely large population  hence we can treat the samples as iid.\n",
    "\n",
    "## Ans 2: The dataset is reasonably large and has independent observations.\n",
    " \n"
   ]
  },
  {
   "cell_type": "markdown",
   "metadata": {},
   "source": [
    "### Define  H0: The population temperature mean = 98.6 F\n",
    "###              H1: The population temperature mean != 98.6 F"
   ]
  },
  {
   "cell_type": "code",
   "execution_count": 6,
   "metadata": {},
   "outputs": [],
   "source": [
    "# Applying the bootstrap method.\n",
    "# Making the dataset sample mean to be 98.6 F.\n",
    "body_temp_shifted= body_temp-body_temp.mean()+98.6"
   ]
  },
  {
   "cell_type": "code",
   "execution_count": 7,
   "metadata": {},
   "outputs": [],
   "source": [
    "# Computing bootstrap samples for the shifted temp dataset\n",
    "bs_replicates=[]\n",
    "for i in range(100000):\n",
    "    k= np.random.choice(body_temp_shifted,size=body_temp_shifted.size).mean()\n",
    "    bs_replicates.append(k)\n"
   ]
  },
  {
   "cell_type": "code",
   "execution_count": 8,
   "metadata": {},
   "outputs": [
    {
     "name": "stdout",
     "output_type": "stream",
     "text": [
      "The bootstrap 95% confidence interval is:  [98.47 98.73]\n",
      "The mean of the bootstraped samples is:  98.6\n"
     ]
    }
   ],
   "source": [
    "# Computing the 2.5 & 97.5 percentile values for the bootstraped sample means or 95% confidence interval\n",
    "#for the shifted temp dataset\n",
    "conf_interval=np.percentile(bs_replicates,[2.5,97.5])\n",
    "print('The bootstrap 95% confidence interval is: ',np.around(conf_interval,2))\n",
    "print('The mean of the bootstraped samples is: ',round(np.mean(bs_replicates),2))"
   ]
  },
  {
   "cell_type": "code",
   "execution_count": 9,
   "metadata": {},
   "outputs": [
    {
     "name": "stdout",
     "output_type": "stream",
     "text": [
      "The mean of the given sample is:  98.25\n"
     ]
    }
   ],
   "source": [
    "print('The mean of the given sample is: ',round(body_temp.mean(),2))"
   ]
  },
  {
   "cell_type": "markdown",
   "metadata": {},
   "source": [
    "###  Since the given temperature dataset has the sample mean of  98.25 ,which is outside the 95% Confidence Interval (98.47    98.72) of bootstraped sample means, We can reject the Null Hypothesis that population mean = 98.6 F\n",
    "\n",
    "\n",
    "\n"
   ]
  },
  {
   "cell_type": "markdown",
   "metadata": {},
   "source": [
    "### As we are trying to assess hypothesis about population mean , using the information provided by a lone sample, we would be proceeding with the One Sample test.\n",
    "### Since the population variance of the temperature dataset is not known, Z statistics is not appropriate here.And as the sample is drawn from a normally distributed population,we will proceed with the t statistics test here."
   ]
  },
  {
   "cell_type": "code",
   "execution_count": 11,
   "metadata": {},
   "outputs": [
    {
     "name": "stdout",
     "output_type": "stream",
     "text": [
      "The p value corresponding to the t statistic is:  2.4106320415561276e-07\n"
     ]
    }
   ],
   "source": [
    "# Proceeding with the one sample t test\n",
    "from scipy import stats\n",
    "t,pvalue=stats.ttest_1samp(body_temp,98.6)\n",
    "print('The p value corresponding to the t statistic is: ',pvalue)\n"
   ]
  },
  {
   "cell_type": "code",
   "execution_count": 12,
   "metadata": {},
   "outputs": [
    {
     "name": "stdout",
     "output_type": "stream",
     "text": [
      "The p value corresponding to the z statistic is:  4.9021570141012155e-08\n"
     ]
    }
   ],
   "source": [
    "# Proceeding with the one sample Z test\n",
    "import statsmodels.stats.weightstats as sm1\n",
    "z,pvalue = sm1.ztest(body_temp,None,98.6)\n",
    "print('The p value corresponding to the z statistic is: ',pvalue)"
   ]
  },
  {
   "cell_type": "markdown",
   "metadata": {},
   "source": [
    "## Ans 3: Since the p values associated with both  t  & z statistics is essentially 0, We reject the Null Hypothesis that the population mean temperature= 98.6 F. Further the p values for both t & z statistics are essentially same because the sample size is large. The bootstrap method also corroborates this finding."
   ]
  },
  {
   "cell_type": "code",
   "execution_count": 31,
   "metadata": {},
   "outputs": [],
   "source": [
    "# Drawing a sample size of 10 from the dataset.\n",
    "k1= np.random.choice(body_temp,size=10)"
   ]
  },
  {
   "cell_type": "code",
   "execution_count": 32,
   "metadata": {},
   "outputs": [
    {
     "name": "stdout",
     "output_type": "stream",
     "text": [
      "The p value corresponding to the t statistic is:  0.16319978991894657\n"
     ]
    }
   ],
   "source": [
    "# Proceeding with the t test\n",
    "from scipy import stats\n",
    "t,pvalue=stats.ttest_1samp(k1,98.6)\n",
    "print('The p value corresponding to the t statistic is: ',pvalue)"
   ]
  },
  {
   "cell_type": "code",
   "execution_count": 22,
   "metadata": {},
   "outputs": [
    {
     "name": "stdout",
     "output_type": "stream",
     "text": [
      "The p value corresponding to the z statistic is:  0.037530378210589785\n"
     ]
    }
   ],
   "source": [
    "import statsmodels.stats.weightstats as sm1\n",
    "z,pvalue = sm1.ztest(k1,None,98.6)\n",
    "print('The p value corresponding to the z statistic is: ',pvalue)"
   ]
  },
  {
   "cell_type": "markdown",
   "metadata": {},
   "source": [
    "## Ans 4: The p values associated with t test and  z test are .1632 & .0375 respectively. Thus the t test does not reject the Null Hypothesis of mean population temperature being 98.6,  while z test does at 5% significance level. Thus if sample size is small both these tests can give different results. But since the sample size is 10 which is very small, t test is appropriate here. Also z test  can only be applied when the population variance is known, unlike in this case."
   ]
  },
  {
   "cell_type": "markdown",
   "metadata": {},
   "source": [
    "### When a person's body temperature is outside 95% confidence interval around the population average , Then we can assume that  his/her body temp to be abnormal.\n"
   ]
  },
  {
   "cell_type": "code",
   "execution_count": 33,
   "metadata": {},
   "outputs": [
    {
     "name": "stdout",
     "output_type": "stream",
     "text": [
      "The population average of the bootstraped sample values is:  98.25\n"
     ]
    }
   ],
   "source": [
    "# Computing the 95% Confidence Interval around the population average.\n",
    "k2= np.random.choice(body_temp,size=100000)\n",
    "print('The population average of the bootstraped sample values is: ',round(k2.mean(),2))\n"
   ]
  },
  {
   "cell_type": "code",
   "execution_count": 34,
   "metadata": {},
   "outputs": [
    {
     "name": "stdout",
     "output_type": "stream",
     "text": [
      "The 95% confidence interval of bootstraped sample data is:  [96.7 99.5]\n",
      "The bootstrap margin of error is:  1.4\n"
     ]
    }
   ],
   "source": [
    "conf_Int_b=np.percentile(k2,[2.5,97.5])# 95% Confidence Interval around the population average.\n",
    "print('The 95% confidence interval of bootstraped sample data is: ',conf_Int_b)\n",
    "margin_error_b= (conf_Int_b[1]-conf_Int_b[0])/2\n",
    "print('The bootstrap margin of error is: ',round(margin_error_b,2))"
   ]
  },
  {
   "cell_type": "code",
   "execution_count": 39,
   "metadata": {},
   "outputs": [
    {
     "name": "stdout",
     "output_type": "stream",
     "text": [
      "The 95% confidence interval of population mean is:  (98.12200290560804, 98.37645863285351)\n",
      "The margin of error for  population mean is:  0.13\n"
     ]
    }
   ],
   "source": [
    "# Computing the 95% t-statistics confidence interval for the unknown population mean.\n",
    "t_conf=stats.t.interval(0.95, len(body_temp)-1, loc=np.mean(body_temp), scale=(stats.sem(body_temp)))\n",
    "print('The 95% confidence interval of population mean is: ',t_conf)\n",
    "margin_error_t=(t_conf[1]-t_conf[0])/2\n",
    "print('The margin of error for  population mean is: ',round(margin_error_t,2))"
   ]
  },
  {
   "cell_type": "markdown",
   "metadata": {},
   "source": [
    "## Ans 5: From above results we have :\n",
    "### According to Bootstrap simulations\n",
    "### a) The person's temperature would be considered abnormal,if it doesn't fall in the  interval  (96.7 F , 99.5 F)\n",
    "### b) The margin of error in this case is 1.4 F\n",
    "### According to t statistics\n",
    "### a) The person's temperature would be considered abnormal,if it doesn't fall in the  interval  (98.12 F , 98.37 F)\n",
    "### b) The margin of error in this case is 0.13 F\n",
    "\n",
    "\n"
   ]
  },
  {
   "cell_type": "code",
   "execution_count": 32,
   "metadata": {},
   "outputs": [],
   "source": [
    "# Segregating the Male & Female data\n",
    "Male=df.loc[df['gender']=='M']\n",
    "Female=df.loc[df['gender']=='F']"
   ]
  },
  {
   "cell_type": "code",
   "execution_count": 33,
   "metadata": {},
   "outputs": [
    {
     "name": "stdout",
     "output_type": "stream",
     "text": [
      "The p value corresponding to the Shapirow wilk statistics is: 0.8545167446136475\n"
     ]
    }
   ],
   "source": [
    "# Applying  Shapiro wilk normaility test to the male temperature data.\n",
    "sw_statistics_m,pvalue_m = stats.shapiro(Male['temperature'])\n",
    "print('The p value corresponding to the Shapirow wilk statistics is:',pvalue_m)"
   ]
  },
  {
   "cell_type": "code",
   "execution_count": 34,
   "metadata": {},
   "outputs": [
    {
     "name": "stdout",
     "output_type": "stream",
     "text": [
      "The p value corresponding to the Shapirow wilk statistics is: 0.09016574919223785\n"
     ]
    }
   ],
   "source": [
    "# Applying  Shapiro wilk normaility test to the Female temperature data.\n",
    "sw_statistics_m,pvalue_f = stats.shapiro(Female['temperature'])\n",
    "print('The p value corresponding to the Shapirow wilk statistics is:',pvalue_f)"
   ]
  },
  {
   "cell_type": "markdown",
   "metadata": {},
   "source": [
    "### From the above results of Shapiro wilk statistics, we can see that both male and female temperature data are normally distributed and each has a sample size of 64 observations. Hence we would be using the t test for comparing their population mean temperatures.\n"
   ]
  },
  {
   "cell_type": "code",
   "execution_count": 37,
   "metadata": {},
   "outputs": [
    {
     "name": "stdout",
     "output_type": "stream",
     "text": [
      "The value of the F statistics is:  0.8833\n",
      "The critical values corresponding to the F Statistics are: ( 0.6099475769056641   1.639485158828104 )\n"
     ]
    }
   ],
   "source": [
    "# Checking for the male & female temperature data for equal variance by F test\n",
    "F_Statistics=np.var(Male['temperature'], ddof=1)/np.var(Female['temperature'], ddof=1)\n",
    "f_RV = stats.f(len(Male['temperature'])-1,len(Female['temperature'])-1)\n",
    "f_critical1 = f_RV.ppf(0.025)# Computes critical value corresponding to the 2.5 percentile\n",
    "f_critical2 = f_RV.ppf(0.975)# Computes critical value corresponding to the 97.5 percentile\n",
    "print('The value of the F statistics is: ',round(F_Statistics,4))\n",
    "print('The critical values corresponding to the F Statistics are: (',f_critical1,' ',f_critical2,')')"
   ]
  },
  {
   "cell_type": "markdown",
   "metadata": {},
   "source": [
    "### Since the value of the F_statistics lies between 95% critical values, f_critical1 & f_critical2 , both male & female datasets  have same population variances, we can now apply two sample t test to check for differences of their respective population means.\n",
    "\n"
   ]
  },
  {
   "cell_type": "code",
   "execution_count": 38,
   "metadata": {},
   "outputs": [
    {
     "name": "stdout",
     "output_type": "stream",
     "text": [
      "The p value corresponding to the t statistics is:  0.02393188312239561\n"
     ]
    }
   ],
   "source": [
    "# Applying 2 sample t test to the male and female sample data.\n",
    "t_statistics,Pvalue_M_F = stats.ttest_ind(Male['temperature'],Female['temperature'])\n",
    "print('The p value corresponding to the t statistics is: ', Pvalue_M_F)"
   ]
  },
  {
   "cell_type": "markdown",
   "metadata": {},
   "source": [
    "## Ans 6: The p value correspnding to 2 sample t test is .024, hence we can reject the Null hypothesis of equal population means for male and female temperature datasets at 5% level of significance. \n",
    "\n"
   ]
  },
  {
   "cell_type": "markdown",
   "metadata": {},
   "source": [
    "## Conclusion: From the given temperature dataset, we have deduced that we can reject the null hypothesis of population mean = 98.6 F . This conclusion has been corroborated by both bootstrap as well as one sample t statistics test. Further using 2 sample t statistics (as both male & female sample datasets are reasonably large, normally distributed and have same variance) we  have concluded that male and female mean population temperatures are different, which is expected as both have different physiologies"
   ]
  },
  {
   "cell_type": "code",
   "execution_count": null,
   "metadata": {},
   "outputs": [],
   "source": []
  }
 ],
 "metadata": {
  "kernelspec": {
   "display_name": "Python 3",
   "language": "python",
   "name": "python3"
  },
  "language_info": {
   "codemirror_mode": {
    "name": "ipython",
    "version": 3
   },
   "file_extension": ".py",
   "mimetype": "text/x-python",
   "name": "python",
   "nbconvert_exporter": "python",
   "pygments_lexer": "ipython3",
   "version": "3.6.8"
  }
 },
 "nbformat": 4,
 "nbformat_minor": 1
}
