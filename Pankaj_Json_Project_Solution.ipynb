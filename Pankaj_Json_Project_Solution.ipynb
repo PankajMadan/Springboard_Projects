{
 "cells": [
  {
   "cell_type": "markdown",
   "metadata": {},
   "source": [
    "## Importing required packages for the project"
   ]
  },
  {
   "cell_type": "code",
   "execution_count": 1,
   "metadata": {},
   "outputs": [],
   "source": [
    "import pandas as pd\n",
    "import json\n",
    "from pandas.io.json import json_normalize"
   ]
  },
  {
   "cell_type": "markdown",
   "metadata": {},
   "source": [
    "## Reading the JSON data"
   ]
  },
  {
   "cell_type": "code",
   "execution_count": 2,
   "metadata": {},
   "outputs": [],
   "source": [
    "#Reading the JSON data as string\n",
    "data=json.load((open('world_bank_projects.json'))) "
   ]
  },
  {
   "cell_type": "code",
   "execution_count": 3,
   "metadata": {},
   "outputs": [],
   "source": [
    "#Normalizing to read in the important columns\n",
    "df=json_normalize(data,'mjtheme_namecode',['countryname'])"
   ]
  },
  {
   "cell_type": "code",
   "execution_count": 4,
   "metadata": {},
   "outputs": [
    {
     "data": {
      "text/html": [
       "<div>\n",
       "<style scoped>\n",
       "    .dataframe tbody tr th:only-of-type {\n",
       "        vertical-align: middle;\n",
       "    }\n",
       "\n",
       "    .dataframe tbody tr th {\n",
       "        vertical-align: top;\n",
       "    }\n",
       "\n",
       "    .dataframe thead th {\n",
       "        text-align: right;\n",
       "    }\n",
       "</style>\n",
       "<table border=\"1\" class=\"dataframe\">\n",
       "  <thead>\n",
       "    <tr style=\"text-align: right;\">\n",
       "      <th></th>\n",
       "      <th>code</th>\n",
       "      <th>name</th>\n",
       "      <th>countryname</th>\n",
       "    </tr>\n",
       "  </thead>\n",
       "  <tbody>\n",
       "    <tr>\n",
       "      <th>0</th>\n",
       "      <td>8</td>\n",
       "      <td>Human development</td>\n",
       "      <td>Federal Democratic Republic of Ethiopia</td>\n",
       "    </tr>\n",
       "    <tr>\n",
       "      <th>1</th>\n",
       "      <td>11</td>\n",
       "      <td></td>\n",
       "      <td>Federal Democratic Republic of Ethiopia</td>\n",
       "    </tr>\n",
       "    <tr>\n",
       "      <th>2</th>\n",
       "      <td>1</td>\n",
       "      <td>Economic management</td>\n",
       "      <td>Republic of Tunisia</td>\n",
       "    </tr>\n",
       "    <tr>\n",
       "      <th>3</th>\n",
       "      <td>6</td>\n",
       "      <td>Social protection and risk management</td>\n",
       "      <td>Republic of Tunisia</td>\n",
       "    </tr>\n",
       "    <tr>\n",
       "      <th>4</th>\n",
       "      <td>5</td>\n",
       "      <td>Trade and integration</td>\n",
       "      <td>Tuvalu</td>\n",
       "    </tr>\n",
       "  </tbody>\n",
       "</table>\n",
       "</div>"
      ],
      "text/plain": [
       "  code                                   name  \\\n",
       "0    8                      Human development   \n",
       "1   11                                          \n",
       "2    1                    Economic management   \n",
       "3    6  Social protection and risk management   \n",
       "4    5                  Trade and integration   \n",
       "\n",
       "                               countryname  \n",
       "0  Federal Democratic Republic of Ethiopia  \n",
       "1  Federal Democratic Republic of Ethiopia  \n",
       "2                      Republic of Tunisia  \n",
       "3                      Republic of Tunisia  \n",
       "4                                   Tuvalu  "
      ]
     },
     "execution_count": 4,
     "metadata": {},
     "output_type": "execute_result"
    }
   ],
   "source": [
    "# Displaying the head\n",
    "df.head()\n"
   ]
  },
  {
   "cell_type": "code",
   "execution_count": 5,
   "metadata": {},
   "outputs": [
    {
     "name": "stdout",
     "output_type": "stream",
     "text": [
      "<class 'pandas.core.frame.DataFrame'>\n",
      "RangeIndex: 1499 entries, 0 to 1498\n",
      "Data columns (total 3 columns):\n",
      "code           1499 non-null object\n",
      "name           1499 non-null object\n",
      "countryname    1499 non-null object\n",
      "dtypes: object(3)\n",
      "memory usage: 35.2+ KB\n"
     ]
    }
   ],
   "source": [
    "# Checking for null values \n",
    "df.info()\n",
    "# No Null Values Found"
   ]
  },
  {
   "cell_type": "markdown",
   "metadata": {},
   "source": [
    "### Ans 1:Top 10 countries with most projects, alongside no. of projects running in each country."
   ]
  },
  {
   "cell_type": "code",
   "execution_count": 10,
   "metadata": {},
   "outputs": [
    {
     "data": {
      "text/plain": [
       "Republic of Indonesia              56\n",
       "Republic of India                  51\n",
       "Socialist Republic of Vietnam      43\n",
       "People's Republic of Bangladesh    41\n",
       "Federative Republic of Brazil      41\n",
       "People's Republic of China         40\n",
       "Africa                             39\n",
       "Republic of Yemen                  34\n",
       "Kingdom of Morocco                 32\n",
       "Republic of Mozambique             31\n",
       "Name: countryname, dtype: int64"
      ]
     },
     "execution_count": 10,
     "metadata": {},
     "output_type": "execute_result"
    }
   ],
   "source": [
    "# Displys Top 10 countries with most projects, alongside no. of projects running in each country.\n",
    "df['countryname'].value_counts().head(10)\n"
   ]
  },
  {
   "cell_type": "markdown",
   "metadata": {},
   "source": [
    "### Ans 2: Top 10 major project themes (using column 'mjtheme_namecode') with missing project theme data"
   ]
  },
  {
   "cell_type": "code",
   "execution_count": 14,
   "metadata": {},
   "outputs": [
    {
     "data": {
      "text/plain": [
       "Environment and natural resources management    223\n",
       "Rural development                               202\n",
       "Human development                               197\n",
       "Public sector governance                        184\n",
       "Social protection and risk management           158\n",
       "Financial and private sector development        130\n",
       "                                                122\n",
       "Social dev/gender/inclusion                     119\n",
       "Trade and integration                            72\n",
       "Urban development                                47\n",
       "Name: name, dtype: int64"
      ]
     },
     "execution_count": 14,
     "metadata": {},
     "output_type": "execute_result"
    }
   ],
   "source": [
    "# Displays Top 10 major project themes with missing project theme data\n",
    "df['name'].value_counts().head(10)\n"
   ]
  },
  {
   "cell_type": "markdown",
   "metadata": {},
   "source": [
    "### Finding the Missing data"
   ]
  },
  {
   "cell_type": "code",
   "execution_count": 15,
   "metadata": {},
   "outputs": [],
   "source": [
    "# Finding the Missing data. Finding code for every given project theme name\n",
    "code_name={}\n",
    "def det_name(row):\n",
    "    if row['name']!= '':\n",
    "        code_name[row['code']]=row['name']\n",
    "\n",
    "        "
   ]
  },
  {
   "cell_type": "code",
   "execution_count": 16,
   "metadata": {},
   "outputs": [],
   "source": [
    "# Applying the det_name function to populate the code_name dictionary, which associates the project_code \n",
    "#with the project theme name.\n",
    "p=df.apply(det_name,axis=1)"
   ]
  },
  {
   "cell_type": "code",
   "execution_count": 17,
   "metadata": {},
   "outputs": [
    {
     "name": "stdout",
     "output_type": "stream",
     "text": [
      "[('1', 'Economic management'), ('10', 'Rural development'), ('11', 'Environment and natural resources management'), ('2', 'Public sector governance'), ('3', 'Rule of law'), ('4', 'Financial and private sector development'), ('5', 'Trade and integration'), ('6', 'Social protection and risk management'), ('7', 'Social dev/gender/inclusion'), ('8', 'Human development'), ('9', 'Urban development')]\n"
     ]
    }
   ],
   "source": [
    "# Displays the Project code along with corresponding Project theme name\n",
    "print(sorted(code_name.items()))\n"
   ]
  },
  {
   "cell_type": "code",
   "execution_count": 18,
   "metadata": {},
   "outputs": [],
   "source": [
    "# Defining function to fill in the Missing Project theme name data.\n",
    "def put_name(x):\n",
    "    if x['name']=='':\n",
    "        x['name']=code_name[x['code']]\n",
    "    return x\n",
    "# Applying the function to fill in the missing data        \n",
    "p=df.apply(put_name,axis=1)"
   ]
  },
  {
   "cell_type": "code",
   "execution_count": 19,
   "metadata": {},
   "outputs": [],
   "source": [
    "#Renaming the Dataframe Columns.\n",
    "df=df.rename(columns={'code':'Project_Code','name':'Project_Theme_Name','countryname':'Country_Name'})"
   ]
  },
  {
   "cell_type": "markdown",
   "metadata": {},
   "source": [
    "### Ans 3: The dataframe with desired columns with missing values filled in."
   ]
  },
  {
   "cell_type": "code",
   "execution_count": 20,
   "metadata": {},
   "outputs": [
    {
     "data": {
      "text/html": [
       "<div>\n",
       "<style scoped>\n",
       "    .dataframe tbody tr th:only-of-type {\n",
       "        vertical-align: middle;\n",
       "    }\n",
       "\n",
       "    .dataframe tbody tr th {\n",
       "        vertical-align: top;\n",
       "    }\n",
       "\n",
       "    .dataframe thead th {\n",
       "        text-align: right;\n",
       "    }\n",
       "</style>\n",
       "<table border=\"1\" class=\"dataframe\">\n",
       "  <thead>\n",
       "    <tr style=\"text-align: right;\">\n",
       "      <th></th>\n",
       "      <th>Project_Code</th>\n",
       "      <th>Project_Theme_Name</th>\n",
       "      <th>Country_Name</th>\n",
       "    </tr>\n",
       "  </thead>\n",
       "  <tbody>\n",
       "    <tr>\n",
       "      <th>0</th>\n",
       "      <td>8</td>\n",
       "      <td>Human development</td>\n",
       "      <td>Federal Democratic Republic of Ethiopia</td>\n",
       "    </tr>\n",
       "    <tr>\n",
       "      <th>1</th>\n",
       "      <td>11</td>\n",
       "      <td>Environment and natural resources management</td>\n",
       "      <td>Federal Democratic Republic of Ethiopia</td>\n",
       "    </tr>\n",
       "    <tr>\n",
       "      <th>2</th>\n",
       "      <td>1</td>\n",
       "      <td>Economic management</td>\n",
       "      <td>Republic of Tunisia</td>\n",
       "    </tr>\n",
       "    <tr>\n",
       "      <th>3</th>\n",
       "      <td>6</td>\n",
       "      <td>Social protection and risk management</td>\n",
       "      <td>Republic of Tunisia</td>\n",
       "    </tr>\n",
       "    <tr>\n",
       "      <th>4</th>\n",
       "      <td>5</td>\n",
       "      <td>Trade and integration</td>\n",
       "      <td>Tuvalu</td>\n",
       "    </tr>\n",
       "    <tr>\n",
       "      <th>5</th>\n",
       "      <td>2</td>\n",
       "      <td>Public sector governance</td>\n",
       "      <td>Tuvalu</td>\n",
       "    </tr>\n",
       "    <tr>\n",
       "      <th>6</th>\n",
       "      <td>11</td>\n",
       "      <td>Environment and natural resources management</td>\n",
       "      <td>Tuvalu</td>\n",
       "    </tr>\n",
       "    <tr>\n",
       "      <th>7</th>\n",
       "      <td>6</td>\n",
       "      <td>Social protection and risk management</td>\n",
       "      <td>Tuvalu</td>\n",
       "    </tr>\n",
       "    <tr>\n",
       "      <th>8</th>\n",
       "      <td>7</td>\n",
       "      <td>Social dev/gender/inclusion</td>\n",
       "      <td>Republic of Yemen</td>\n",
       "    </tr>\n",
       "    <tr>\n",
       "      <th>9</th>\n",
       "      <td>7</td>\n",
       "      <td>Social dev/gender/inclusion</td>\n",
       "      <td>Republic of Yemen</td>\n",
       "    </tr>\n",
       "    <tr>\n",
       "      <th>10</th>\n",
       "      <td>5</td>\n",
       "      <td>Trade and integration</td>\n",
       "      <td>Kingdom of Lesotho</td>\n",
       "    </tr>\n",
       "    <tr>\n",
       "      <th>11</th>\n",
       "      <td>4</td>\n",
       "      <td>Financial and private sector development</td>\n",
       "      <td>Kingdom of Lesotho</td>\n",
       "    </tr>\n",
       "    <tr>\n",
       "      <th>12</th>\n",
       "      <td>6</td>\n",
       "      <td>Social protection and risk management</td>\n",
       "      <td>Republic of Kenya</td>\n",
       "    </tr>\n",
       "    <tr>\n",
       "      <th>13</th>\n",
       "      <td>6</td>\n",
       "      <td>Social protection and risk management</td>\n",
       "      <td>Republic of Kenya</td>\n",
       "    </tr>\n",
       "    <tr>\n",
       "      <th>14</th>\n",
       "      <td>2</td>\n",
       "      <td>Public sector governance</td>\n",
       "      <td>Republic of India</td>\n",
       "    </tr>\n",
       "    <tr>\n",
       "      <th>15</th>\n",
       "      <td>4</td>\n",
       "      <td>Financial and private sector development</td>\n",
       "      <td>Republic of India</td>\n",
       "    </tr>\n",
       "    <tr>\n",
       "      <th>16</th>\n",
       "      <td>11</td>\n",
       "      <td>Environment and natural resources management</td>\n",
       "      <td>People's Republic of China</td>\n",
       "    </tr>\n",
       "    <tr>\n",
       "      <th>17</th>\n",
       "      <td>8</td>\n",
       "      <td>Human development</td>\n",
       "      <td>People's Republic of China</td>\n",
       "    </tr>\n",
       "    <tr>\n",
       "      <th>18</th>\n",
       "      <td>10</td>\n",
       "      <td>Rural development</td>\n",
       "      <td>Republic of India</td>\n",
       "    </tr>\n",
       "    <tr>\n",
       "      <th>19</th>\n",
       "      <td>7</td>\n",
       "      <td>Social dev/gender/inclusion</td>\n",
       "      <td>Republic of India</td>\n",
       "    </tr>\n",
       "  </tbody>\n",
       "</table>\n",
       "</div>"
      ],
      "text/plain": [
       "   Project_Code                            Project_Theme_Name  \\\n",
       "0             8                             Human development   \n",
       "1            11  Environment and natural resources management   \n",
       "2             1                           Economic management   \n",
       "3             6         Social protection and risk management   \n",
       "4             5                         Trade and integration   \n",
       "5             2                      Public sector governance   \n",
       "6            11  Environment and natural resources management   \n",
       "7             6         Social protection and risk management   \n",
       "8             7                   Social dev/gender/inclusion   \n",
       "9             7                   Social dev/gender/inclusion   \n",
       "10            5                         Trade and integration   \n",
       "11            4      Financial and private sector development   \n",
       "12            6         Social protection and risk management   \n",
       "13            6         Social protection and risk management   \n",
       "14            2                      Public sector governance   \n",
       "15            4      Financial and private sector development   \n",
       "16           11  Environment and natural resources management   \n",
       "17            8                             Human development   \n",
       "18           10                             Rural development   \n",
       "19            7                   Social dev/gender/inclusion   \n",
       "\n",
       "                               Country_Name  \n",
       "0   Federal Democratic Republic of Ethiopia  \n",
       "1   Federal Democratic Republic of Ethiopia  \n",
       "2                       Republic of Tunisia  \n",
       "3                       Republic of Tunisia  \n",
       "4                                    Tuvalu  \n",
       "5                                    Tuvalu  \n",
       "6                                    Tuvalu  \n",
       "7                                    Tuvalu  \n",
       "8                         Republic of Yemen  \n",
       "9                         Republic of Yemen  \n",
       "10                       Kingdom of Lesotho  \n",
       "11                       Kingdom of Lesotho  \n",
       "12                        Republic of Kenya  \n",
       "13                        Republic of Kenya  \n",
       "14                        Republic of India  \n",
       "15                        Republic of India  \n",
       "16               People's Republic of China  \n",
       "17               People's Republic of China  \n",
       "18                        Republic of India  \n",
       "19                        Republic of India  "
      ]
     },
     "execution_count": 20,
     "metadata": {},
     "output_type": "execute_result"
    }
   ],
   "source": [
    "# Outputing the dataframe with no missing data.\n",
    "df.head(20)"
   ]
  },
  {
   "cell_type": "markdown",
   "metadata": {},
   "source": [
    "###  Top 10 major project themes with FULL project theme data (No missing Data)"
   ]
  },
  {
   "cell_type": "code",
   "execution_count": 21,
   "metadata": {},
   "outputs": [
    {
     "data": {
      "text/plain": [
       "Environment and natural resources management    250\n",
       "Rural development                               216\n",
       "Human development                               210\n",
       "Public sector governance                        199\n",
       "Social protection and risk management           168\n",
       "Financial and private sector development        146\n",
       "Social dev/gender/inclusion                     130\n",
       "Trade and integration                            77\n",
       "Urban development                                50\n",
       "Economic management                              38\n",
       "Name: Project_Theme_Name, dtype: int64"
      ]
     },
     "execution_count": 21,
     "metadata": {},
     "output_type": "execute_result"
    }
   ],
   "source": [
    "# Displaying Top 10 major project themes with FULL project theme data (No missing Data)\n",
    "df['Project_Theme_Name'].value_counts().head(10)"
   ]
  },
  {
   "cell_type": "code",
   "execution_count": null,
   "metadata": {},
   "outputs": [],
   "source": []
  }
 ],
 "metadata": {
  "kernelspec": {
   "display_name": "Python 3",
   "language": "python",
   "name": "python3"
  },
  "language_info": {
   "codemirror_mode": {
    "name": "ipython",
    "version": 3
   },
   "file_extension": ".py",
   "mimetype": "text/x-python",
   "name": "python",
   "nbconvert_exporter": "python",
   "pygments_lexer": "ipython3",
   "version": "3.6.8"
  }
 },
 "nbformat": 4,
 "nbformat_minor": 2
}
